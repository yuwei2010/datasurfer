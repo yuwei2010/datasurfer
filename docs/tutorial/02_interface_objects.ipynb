{
 "cells": [
  {
   "cell_type": "markdown",
   "metadata": {},
   "source": [
    "#  Interface Object\n",
    "An interface object establishes a connection between a file containing data and a data pool. Each interface object is capable of parsing a specific data format and convert the data into a dataframe. Below are the built-in interfaces in DataSurfer."
   ]
  }
 ],
 "metadata": {
  "language_info": {
   "name": "python"
  }
 },
 "nbformat": 4,
 "nbformat_minor": 2
}
