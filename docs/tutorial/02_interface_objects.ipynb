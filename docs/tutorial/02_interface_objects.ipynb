{
 "cells": [
  {
   "cell_type": "markdown",
   "metadata": {},
   "source": [
    "#  Interface Object\n",
    "An interface object establishes a connection between a file containing data and a data pool. Each interface object is capable of parsing a specific data format and convert the data into a dataframe. Below are the built-in interfaces in DataSurfer."
   ]
  },
  {
   "cell_type": "code",
   "execution_count": 43,
   "metadata": {},
   "outputs": [
    {
     "data": {
      "text/html": [
       "<div>\n",
       "<style scoped>\n",
       "    .dataframe tbody tr th:only-of-type {\n",
       "        vertical-align: middle;\n",
       "    }\n",
       "\n",
       "    .dataframe tbody tr th {\n",
       "        vertical-align: top;\n",
       "    }\n",
       "\n",
       "    .dataframe thead th {\n",
       "        text-align: right;\n",
       "    }\n",
       "</style>\n",
       "<table border=\"1\" class=\"dataframe\">\n",
       "  <thead>\n",
       "    <tr style=\"text-align: right;\">\n",
       "      <th></th>\n",
       "      <th>class</th>\n",
       "      <th>doc</th>\n",
       "      <th>file extension</th>\n",
       "    </tr>\n",
       "    <tr>\n",
       "      <th>name</th>\n",
       "      <th></th>\n",
       "      <th></th>\n",
       "      <th></th>\n",
       "    </tr>\n",
       "  </thead>\n",
       "  <tbody>\n",
       "    <tr>\n",
       "      <th>AMEDATA_OBJECT</th>\n",
       "      <td>&lt;class 'datasurfer.lib_objects.amedata_object....</td>\n",
       "      <td>\\n    A class reads AMESim tables.\\n\\n    Att...</td>\n",
       "      <td>[.data]</td>\n",
       "    </tr>\n",
       "    <tr>\n",
       "      <th>AMEGP_OBJECT</th>\n",
       "      <td>&lt;class 'datasurfer.lib_objects.amegp_object.AM...</td>\n",
       "      <td>\\n    Represents an object for handling AMEGP ...</td>\n",
       "      <td>[.gp]</td>\n",
       "    </tr>\n",
       "    <tr>\n",
       "      <th>AMERES_OBJECT</th>\n",
       "      <td>&lt;class 'datasurfer.lib_objects.ameres_object.A...</td>\n",
       "      <td>\\n    Represents an object for handling AMERES...</td>\n",
       "      <td>[.results]</td>\n",
       "    </tr>\n",
       "    <tr>\n",
       "      <th>ASAMMDF_OBJECT</th>\n",
       "      <td>&lt;class 'datasurfer.lib_objects.asammdf_object....</td>\n",
       "      <td>\\n    Represents an ASAM MDF object.\\n\\n    Ar...</td>\n",
       "      <td>[mf4]</td>\n",
       "    </tr>\n",
       "    <tr>\n",
       "      <th>DATA_OBJECT</th>\n",
       "      <td>&lt;class 'datasurfer.lib_objects.data_object.DAT...</td>\n",
       "      <td>\\n    Represents a data object.\\n\\n    Args:\\n...</td>\n",
       "      <td>[.npz]</td>\n",
       "    </tr>\n",
       "    <tr>\n",
       "      <th>KF_OBJECT</th>\n",
       "      <td>&lt;class 'datasurfer.lib_objects.femke_object.KF...</td>\n",
       "      <td>\\n    A class representing a KF_OBJECT.\\n\\n   ...</td>\n",
       "      <td>[*.kf]</td>\n",
       "    </tr>\n",
       "    <tr>\n",
       "      <th>FINANCE_OBJECT</th>\n",
       "      <td>&lt;class 'datasurfer.lib_objects.finance_object....</td>\n",
       "      <td>\\n    A class representing a finance object.\\n...</td>\n",
       "      <td>[.csv, .xlsx, .xls]</td>\n",
       "    </tr>\n",
       "    <tr>\n",
       "      <th>PANDAS_OBJECT</th>\n",
       "      <td>&lt;class 'datasurfer.lib_objects.pandas_object.P...</td>\n",
       "      <td>\\n    A class representing a Pandas object.\\n\\...</td>\n",
       "      <td>[.xlsx, .csv, .xls]</td>\n",
       "    </tr>\n",
       "    <tr>\n",
       "      <th>JSON_OBJECT</th>\n",
       "      <td>&lt;class 'datasurfer.lib_objects.json_object.JSO...</td>\n",
       "      <td>\\n    Represents a JSON object.\\n\\n    Args:\\n...</td>\n",
       "      <td>[.json]</td>\n",
       "    </tr>\n",
       "    <tr>\n",
       "      <th>MATLAB_OBJECT</th>\n",
       "      <td>&lt;class 'datasurfer.lib_objects.matlab_object.M...</td>\n",
       "      <td>\\n    Represents a MATLAB object that can be l...</td>\n",
       "      <td>[.mat]</td>\n",
       "    </tr>\n",
       "    <tr>\n",
       "      <th>MDF_OBJECT</th>\n",
       "      <td>&lt;class 'datasurfer.lib_objects.mdf_object.MDF_...</td>\n",
       "      <td>\\n    Represents an MDF object that provides a...</td>\n",
       "      <td>[.mf4]</td>\n",
       "    </tr>\n",
       "    <tr>\n",
       "      <th>STRING_OBJECT</th>\n",
       "      <td>&lt;class 'datasurfer.lib_objects.string_object.S...</td>\n",
       "      <td>\\n    Represents a string object.\\n\\n    Args:...</td>\n",
       "      <td>[-]</td>\n",
       "    </tr>\n",
       "  </tbody>\n",
       "</table>\n",
       "</div>"
      ],
      "text/plain": [
       "                                                            class  \\\n",
       "name                                                                \n",
       "AMEDATA_OBJECT  <class 'datasurfer.lib_objects.amedata_object....   \n",
       "AMEGP_OBJECT    <class 'datasurfer.lib_objects.amegp_object.AM...   \n",
       "AMERES_OBJECT   <class 'datasurfer.lib_objects.ameres_object.A...   \n",
       "ASAMMDF_OBJECT  <class 'datasurfer.lib_objects.asammdf_object....   \n",
       "DATA_OBJECT     <class 'datasurfer.lib_objects.data_object.DAT...   \n",
       "KF_OBJECT       <class 'datasurfer.lib_objects.femke_object.KF...   \n",
       "FINANCE_OBJECT  <class 'datasurfer.lib_objects.finance_object....   \n",
       "PANDAS_OBJECT   <class 'datasurfer.lib_objects.pandas_object.P...   \n",
       "JSON_OBJECT     <class 'datasurfer.lib_objects.json_object.JSO...   \n",
       "MATLAB_OBJECT   <class 'datasurfer.lib_objects.matlab_object.M...   \n",
       "MDF_OBJECT      <class 'datasurfer.lib_objects.mdf_object.MDF_...   \n",
       "STRING_OBJECT   <class 'datasurfer.lib_objects.string_object.S...   \n",
       "\n",
       "                                                              doc  \\\n",
       "name                                                                \n",
       "AMEDATA_OBJECT   \\n    A class reads AMESim tables.\\n\\n    Att...   \n",
       "AMEGP_OBJECT    \\n    Represents an object for handling AMEGP ...   \n",
       "AMERES_OBJECT   \\n    Represents an object for handling AMERES...   \n",
       "ASAMMDF_OBJECT  \\n    Represents an ASAM MDF object.\\n\\n    Ar...   \n",
       "DATA_OBJECT     \\n    Represents a data object.\\n\\n    Args:\\n...   \n",
       "KF_OBJECT       \\n    A class representing a KF_OBJECT.\\n\\n   ...   \n",
       "FINANCE_OBJECT  \\n    A class representing a finance object.\\n...   \n",
       "PANDAS_OBJECT   \\n    A class representing a Pandas object.\\n\\...   \n",
       "JSON_OBJECT     \\n    Represents a JSON object.\\n\\n    Args:\\n...   \n",
       "MATLAB_OBJECT   \\n    Represents a MATLAB object that can be l...   \n",
       "MDF_OBJECT      \\n    Represents an MDF object that provides a...   \n",
       "STRING_OBJECT   \\n    Represents a string object.\\n\\n    Args:...   \n",
       "\n",
       "                     file extension  \n",
       "name                                 \n",
       "AMEDATA_OBJECT              [.data]  \n",
       "AMEGP_OBJECT                  [.gp]  \n",
       "AMERES_OBJECT            [.results]  \n",
       "ASAMMDF_OBJECT                [mf4]  \n",
       "DATA_OBJECT                  [.npz]  \n",
       "KF_OBJECT                    [*.kf]  \n",
       "FINANCE_OBJECT  [.csv, .xlsx, .xls]  \n",
       "PANDAS_OBJECT   [.xlsx, .csv, .xls]  \n",
       "JSON_OBJECT                 [.json]  \n",
       "MATLAB_OBJECT                [.mat]  \n",
       "MDF_OBJECT                   [.mf4]  \n",
       "STRING_OBJECT                   [-]  "
      ]
     },
     "execution_count": 43,
     "metadata": {},
     "output_type": "execute_result"
    }
   ],
   "source": [
    "import datasurfer as ds\n",
    "\n",
    "ds.list_interfaces()"
   ]
  },
  {
   "cell_type": "markdown",
   "metadata": {},
   "source": [
    "From the table, you can discover the interface names, their locations in DataSurfer, associated documentation, and corresponding data format extensions."
   ]
  },
  {
   "cell_type": "markdown",
   "metadata": {},
   "source": [
    "## Create an Interface Object\n",
    "\n",
    "To create an interface, simply provide the file path and a comment. The following example demonstrates the creation of a JSON file interface."
   ]
  },
  {
   "cell_type": "code",
   "execution_count": 44,
   "metadata": {},
   "outputs": [
    {
     "data": {
      "text/plain": [
       "<JSON_OBJECT@data3>"
      ]
     },
     "execution_count": 44,
     "metadata": {},
     "output_type": "execute_result"
    }
   ],
   "source": [
    "from datasurfer import JSON_OBJECT\n",
    "\n",
    "obj = JSON_OBJECT(r'demo_data\\data3.json', comment='A JSON object with comments')\n",
    "\n",
    "obj"
   ]
  },
  {
   "cell_type": "markdown",
   "metadata": {},
   "source": [
    "## Display the Data in File\n",
    "\n",
    "Each interface object maintains a dataframe containing the data you wish to extract from the file. You can utilize the following command to display the dataframe."
   ]
  },
  {
   "cell_type": "code",
   "execution_count": 45,
   "metadata": {},
   "outputs": [
    {
     "data": {
      "text/html": [
       "<div>\n",
       "<style scoped>\n",
       "    .dataframe tbody tr th:only-of-type {\n",
       "        vertical-align: middle;\n",
       "    }\n",
       "\n",
       "    .dataframe tbody tr th {\n",
       "        vertical-align: top;\n",
       "    }\n",
       "\n",
       "    .dataframe thead th {\n",
       "        text-align: right;\n",
       "    }\n",
       "</style>\n",
       "<table border=\"1\" class=\"dataframe\">\n",
       "  <thead>\n",
       "    <tr style=\"text-align: right;\">\n",
       "      <th></th>\n",
       "      <th>c</th>\n",
       "      <th>d</th>\n",
       "      <th>e</th>\n",
       "      <th>f</th>\n",
       "      <th>g</th>\n",
       "    </tr>\n",
       "  </thead>\n",
       "  <tbody>\n",
       "    <tr>\n",
       "      <th>0</th>\n",
       "      <td>0.996721</td>\n",
       "      <td>0.633303</td>\n",
       "      <td>0.439255</td>\n",
       "      <td>0.589913</td>\n",
       "      <td>0.007243</td>\n",
       "    </tr>\n",
       "    <tr>\n",
       "      <th>1</th>\n",
       "      <td>0.576359</td>\n",
       "      <td>0.571012</td>\n",
       "      <td>0.067159</td>\n",
       "      <td>0.514568</td>\n",
       "      <td>0.874053</td>\n",
       "    </tr>\n",
       "    <tr>\n",
       "      <th>2</th>\n",
       "      <td>0.853079</td>\n",
       "      <td>0.963960</td>\n",
       "      <td>0.634992</td>\n",
       "      <td>0.760537</td>\n",
       "      <td>0.368018</td>\n",
       "    </tr>\n",
       "  </tbody>\n",
       "</table>\n",
       "</div>"
      ],
      "text/plain": [
       "          c         d         e         f         g\n",
       "0  0.996721  0.633303  0.439255  0.589913  0.007243\n",
       "1  0.576359  0.571012  0.067159  0.514568  0.874053\n",
       "2  0.853079  0.963960  0.634992  0.760537  0.368018"
      ]
     },
     "execution_count": 45,
     "metadata": {},
     "output_type": "execute_result"
    }
   ],
   "source": [
    "obj.dataframe # or \"obj.df\""
   ]
  },
  {
   "cell_type": "markdown",
   "metadata": {},
   "source": [
    "## Search an existing signal in the object\n",
    "\n",
    "By given a regular expression pattern, you can locate the signal you are seeking."
   ]
  },
  {
   "cell_type": "code",
   "execution_count": 46,
   "metadata": {},
   "outputs": [
    {
     "data": {
      "text/plain": [
       "['c']"
      ]
     },
     "execution_count": 46,
     "metadata": {},
     "output_type": "execute_result"
    }
   ],
   "source": [
    "obj[r'.*c']"
   ]
  },
  {
   "cell_type": "markdown",
   "metadata": {},
   "source": [
    "## Create new signals using interface function\n",
    "\n",
    "Through the interface object, new signals can be defined inside of object using the following methods:"
   ]
  },
  {
   "cell_type": "code",
   "execution_count": 47,
   "metadata": {},
   "outputs": [
    {
     "data": {
      "text/html": [
       "<div>\n",
       "<style scoped>\n",
       "    .dataframe tbody tr th:only-of-type {\n",
       "        vertical-align: middle;\n",
       "    }\n",
       "\n",
       "    .dataframe tbody tr th {\n",
       "        vertical-align: top;\n",
       "    }\n",
       "\n",
       "    .dataframe thead th {\n",
       "        text-align: right;\n",
       "    }\n",
       "</style>\n",
       "<table border=\"1\" class=\"dataframe\">\n",
       "  <thead>\n",
       "    <tr style=\"text-align: right;\">\n",
       "      <th></th>\n",
       "      <th>c</th>\n",
       "      <th>d</th>\n",
       "      <th>e</th>\n",
       "      <th>f</th>\n",
       "      <th>g</th>\n",
       "      <th>h</th>\n",
       "    </tr>\n",
       "  </thead>\n",
       "  <tbody>\n",
       "    <tr>\n",
       "      <th>0</th>\n",
       "      <td>0.996721</td>\n",
       "      <td>0.633303</td>\n",
       "      <td>0.439255</td>\n",
       "      <td>0.589913</td>\n",
       "      <td>0.007243</td>\n",
       "      <td>1</td>\n",
       "    </tr>\n",
       "    <tr>\n",
       "      <th>1</th>\n",
       "      <td>0.576359</td>\n",
       "      <td>0.571012</td>\n",
       "      <td>0.067159</td>\n",
       "      <td>0.514568</td>\n",
       "      <td>0.874053</td>\n",
       "      <td>1</td>\n",
       "    </tr>\n",
       "    <tr>\n",
       "      <th>2</th>\n",
       "      <td>0.853079</td>\n",
       "      <td>0.963960</td>\n",
       "      <td>0.634992</td>\n",
       "      <td>0.760537</td>\n",
       "      <td>0.368018</td>\n",
       "      <td>1</td>\n",
       "    </tr>\n",
       "  </tbody>\n",
       "</table>\n",
       "</div>"
      ],
      "text/plain": [
       "          c         d         e         f         g  h\n",
       "0  0.996721  0.633303  0.439255  0.589913  0.007243  1\n",
       "1  0.576359  0.571012  0.067159  0.514568  0.874053  1\n",
       "2  0.853079  0.963960  0.634992  0.760537  0.368018  1"
      ]
     },
     "execution_count": 47,
     "metadata": {},
     "output_type": "execute_result"
    }
   ],
   "source": [
    "# Direct assignment\n",
    "obj['h'] = 1\n",
    "\n",
    "obj.dataframe"
   ]
  },
  {
   "cell_type": "code",
   "execution_count": 48,
   "metadata": {},
   "outputs": [
    {
     "data": {
      "text/html": [
       "<div>\n",
       "<style scoped>\n",
       "    .dataframe tbody tr th:only-of-type {\n",
       "        vertical-align: middle;\n",
       "    }\n",
       "\n",
       "    .dataframe tbody tr th {\n",
       "        vertical-align: top;\n",
       "    }\n",
       "\n",
       "    .dataframe thead th {\n",
       "        text-align: right;\n",
       "    }\n",
       "</style>\n",
       "<table border=\"1\" class=\"dataframe\">\n",
       "  <thead>\n",
       "    <tr style=\"text-align: right;\">\n",
       "      <th></th>\n",
       "      <th>c</th>\n",
       "      <th>d</th>\n",
       "      <th>e</th>\n",
       "      <th>f</th>\n",
       "      <th>g</th>\n",
       "      <th>h</th>\n",
       "      <th>i</th>\n",
       "    </tr>\n",
       "  </thead>\n",
       "  <tbody>\n",
       "    <tr>\n",
       "      <th>0</th>\n",
       "      <td>0.996721</td>\n",
       "      <td>0.633303</td>\n",
       "      <td>0.439255</td>\n",
       "      <td>0.589913</td>\n",
       "      <td>0.007243</td>\n",
       "      <td>1</td>\n",
       "      <td>1.630024</td>\n",
       "    </tr>\n",
       "    <tr>\n",
       "      <th>1</th>\n",
       "      <td>0.576359</td>\n",
       "      <td>0.571012</td>\n",
       "      <td>0.067159</td>\n",
       "      <td>0.514568</td>\n",
       "      <td>0.874053</td>\n",
       "      <td>1</td>\n",
       "      <td>1.147370</td>\n",
       "    </tr>\n",
       "    <tr>\n",
       "      <th>2</th>\n",
       "      <td>0.853079</td>\n",
       "      <td>0.963960</td>\n",
       "      <td>0.634992</td>\n",
       "      <td>0.760537</td>\n",
       "      <td>0.368018</td>\n",
       "      <td>1</td>\n",
       "      <td>1.817038</td>\n",
       "    </tr>\n",
       "  </tbody>\n",
       "</table>\n",
       "</div>"
      ],
      "text/plain": [
       "          c         d         e         f         g  h         i\n",
       "0  0.996721  0.633303  0.439255  0.589913  0.007243  1  1.630024\n",
       "1  0.576359  0.571012  0.067159  0.514568  0.874053  1  1.147370\n",
       "2  0.853079  0.963960  0.634992  0.760537  0.368018  1  1.817038"
      ]
     },
     "execution_count": 48,
     "metadata": {},
     "output_type": "execute_result"
    }
   ],
   "source": [
    "obj['i'] = obj['c'] + obj['d']\n",
    "\n",
    "obj.dataframe"
   ]
  },
  {
   "cell_type": "markdown",
   "metadata": {},
   "source": [
    "## Save Interface Data to a CSV File\n",
    "\n",
    "Since the interface data is stored in a dataframe format, you can export the modified data into other formats using dataframe methods."
   ]
  },
  {
   "cell_type": "code",
   "execution_count": 49,
   "metadata": {},
   "outputs": [],
   "source": [
    "obj.dataframe.to_csv('demo_data\\data4.csv')"
   ]
  },
  {
   "cell_type": "markdown",
   "metadata": {},
   "source": [
    "## Transform one Interface Object into Another\n",
    "\n",
    "Some interface objects support intermediate transformations. For instance, we can convert a JSON object into a string object:"
   ]
  },
  {
   "cell_type": "code",
   "execution_count": 50,
   "metadata": {},
   "outputs": [
    {
     "name": "stdout",
     "output_type": "stream",
     "text": [
      "          c         d         e         f         g    h         i\n",
      "0  0.996721  0.633303  0.439255  0.589913  0.007243  1.0  1.630024\n",
      "1  0.576359  0.571012  0.067159  0.514568  0.874053  1.0  1.147370\n",
      "2  0.853079  0.963960  0.634992  0.760537  0.368018  1.0  1.817038\n"
     ]
    }
   ],
   "source": [
    "from datasurfer import STRING_OBJECT\n",
    "\n",
    "# Convert Json to String\n",
    "new_obj = obj >> STRING_OBJECT\n",
    "\n",
    "# Print the string\n",
    "print(new_obj.dfstring())"
   ]
  },
  {
   "cell_type": "markdown",
   "metadata": {},
   "source": [
    "## Create a New Interface Type Using the Template.\n",
    "\n",
    "You can create your own interface type to access your data. DataSurfer provides a template to inherit from, ensuring that various files will have the same methods to access the data. In the following example, we will demonstrate how to create a new data interface to access a text file."
   ]
  },
  {
   "cell_type": "code",
   "execution_count": 51,
   "metadata": {},
   "outputs": [
    {
     "data": {
      "text/html": [
       "<div>\n",
       "<style scoped>\n",
       "    .dataframe tbody tr th:only-of-type {\n",
       "        vertical-align: middle;\n",
       "    }\n",
       "\n",
       "    .dataframe tbody tr th {\n",
       "        vertical-align: top;\n",
       "    }\n",
       "\n",
       "    .dataframe thead th {\n",
       "        text-align: right;\n",
       "    }\n",
       "</style>\n",
       "<table border=\"1\" class=\"dataframe\">\n",
       "  <thead>\n",
       "    <tr style=\"text-align: right;\">\n",
       "      <th></th>\n",
       "      <th>a,b,c,d,e</th>\n",
       "    </tr>\n",
       "  </thead>\n",
       "  <tbody>\n",
       "    <tr>\n",
       "      <th>0</th>\n",
       "      <td>0.10748199563736627,0.567579715667491,0.503205...</td>\n",
       "    </tr>\n",
       "    <tr>\n",
       "      <th>1</th>\n",
       "      <td>0.7199986108589298,0.11740810036850002,0.68996...</td>\n",
       "    </tr>\n",
       "    <tr>\n",
       "      <th>2</th>\n",
       "      <td>0.3644930246645035,0.5473683737475761,0.675610...</td>\n",
       "    </tr>\n",
       "    <tr>\n",
       "      <th>3</th>\n",
       "      <td>0.0034479401916363006,0.7764282458981703,0.403...</td>\n",
       "    </tr>\n",
       "  </tbody>\n",
       "</table>\n",
       "</div>"
      ],
      "text/plain": [
       "                                           a,b,c,d,e\n",
       "0  0.10748199563736627,0.567579715667491,0.503205...\n",
       "1  0.7199986108589298,0.11740810036850002,0.68996...\n",
       "2  0.3644930246645035,0.5473683737475761,0.675610...\n",
       "3  0.0034479401916363006,0.7764282458981703,0.403..."
      ]
     },
     "execution_count": 51,
     "metadata": {},
     "output_type": "execute_result"
    }
   ],
   "source": [
    "import pandas as pd\n",
    "from datasurfer import DataInterface\n",
    "\n",
    "class TEXT_OBJECT(DataInterface):\n",
    "    \n",
    "    def __init__(self, path, comment=None):\n",
    "        super().__init__(path, comment=comment)\n",
    "\n",
    "    def get_df(self):\n",
    "        \n",
    "        # Read the text file\n",
    "        with open(self.path, 'r') as f:\n",
    "            data = f.readlines()\n",
    "        \n",
    "        \n",
    "        # Create a dataframe\n",
    "        df = pd.DataFrame(data[1:], columns=[data[0].strip()])\n",
    "        \n",
    "        return df\n",
    "    \n",
    "    \n",
    "txt_obj = TEXT_OBJECT(r'demo_data\\data1.csv')\n",
    "txt_obj.dataframe"
   ]
  },
  {
   "cell_type": "markdown",
   "metadata": {},
   "source": [
    "In the previous example, the method has been overridden to read a text file and convert it to a dataframe. The method get_df() is invoked by the DataInterface class to retrieve the dataframe. It is anticipated that this method will return a dataframe."
   ]
  },
  {
   "cell_type": "markdown",
   "metadata": {},
   "source": [
    "## Visualizing the Data\n",
    "\n",
    "Ultimately, you can visualize the data of the object by utilizing internal methods."
   ]
  },
  {
   "cell_type": "code",
   "execution_count": 54,
   "metadata": {},
   "outputs": [
    {
     "data": {
      "text/plain": [
       "<Axes: xlabel='c', ylabel='d'>"
      ]
     },
     "execution_count": 54,
     "metadata": {},
     "output_type": "execute_result"
    },
    {
     "data": {
      "image/png": "[encoded data removed]",
      "text/plain": [
       "<Figure size 400x300 with 1 Axes>"
      ]
     },
     "metadata": {},
     "output_type": "display_data"
    }
   ],
   "source": [
    "obj.plot.set_figparam(figsize=(4, 3)).scatter('c', 'd', setax=True)"
   ]
  },
  {
   "cell_type": "code",
   "execution_count": null,
   "metadata": {},
   "outputs": [],
   "source": []
  }
 ],
 "metadata": {
  "kernelspec": {
   "display_name": "my_data",
   "language": "python",
   "name": "python3"
  },
  "language_info": {
   "codemirror_mode": {
    "name": "ipython",
    "version": 3
   },
   "file_extension": ".py",
   "mimetype": "text/x-python",
   "name": "python",
   "nbconvert_exporter": "python",
   "pygments_lexer": "ipython3",
   "version": "3.8.17"
  }
 },
 "nbformat": 4,
 "nbformat_minor": 2
}
