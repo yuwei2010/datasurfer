{
 "cells": [
  {
   "cell_type": "markdown",
   "metadata": {},
   "source": [
    "# Welcome to the Datasurfer Tutorial\n",
    "\n",
    "In this tutorial, you'll gain a rapid insight of Datasurfer, covering installation, building your initial data pool, searching for certain data, and visualizing it."
   ]
  },
  {
   "cell_type": "markdown",
   "metadata": {},
   "source": [
    "## Install Datasurfer\n",
    "\n",
    "To initiate the installation of Datasurfer, execute the following command:"
   ]
  },
  {
   "cell_type": "markdown",
   "metadata": {},
   "source": [
    "> pip install datasurfer"
   ]
  },
  {
   "cell_type": "markdown",
   "metadata": {},
   "source": [
    "\n",
    "## Create Data Files\n",
    "Before diving into data harnessing with Datasurfer, let's first create some dummy data files in various formats."
   ]
  },
  {
   "cell_type": "code",
   "execution_count": 58,
   "metadata": {},
   "outputs": [],
   "source": [
    "import numpy as np\n",
    "import pandas as pd\n",
    "import json\n",
    "from pathlib import Path\n",
    "\n",
    "np.random.seed()\n",
    "\n",
    "# Create a directory to store the data.\n",
    "dir_data = Path('demo_data')\n",
    "dir_data.mkdir(exist_ok=True)\n",
    "\n",
    "# Create a csv file.\n",
    "data1 = pd.DataFrame(np.random.rand(4, 5), columns=list('abcde'))\n",
    "data1.to_csv(dir_data / 'data1.csv', index=False)\n",
    "\n",
    "# Create an excel file\n",
    "data2 = pd.DataFrame(np.random.rand(6, 4), columns=list('bcde'))\n",
    "data2.to_excel(dir_data / 'data2.xlsx', index=False)\n",
    "\n",
    "# Create a json file\n",
    "data3 = pd.DataFrame(np.random.rand(5, 3), index=list('cdefg'))\n",
    "json.dump(data3.to_dict(), open(dir_data / 'data3.json', 'w'),  indent=4)\n"
   ]
  },
  {
   "cell_type": "markdown",
   "metadata": {},
   "source": [
    "## Data Pool\n",
    "\n",
    "### Create a Data Pool Object by Giving Path\n",
    "We've now generated three files within the \"demo_data\" directory, each has different file types, varying data sizes, and unequal column names.\n",
    "\n",
    "In the next step, We will create a data pool object to organize and contain these files."
   ]
  },
  {
   "cell_type": "code",
   "execution_count": 59,
   "metadata": {},
   "outputs": [
    {
     "name": "stderr",
     "output_type": "stream",
     "text": [
      "Processing \"\u001b[92mdemo_data\u001b[0m/\u001b[94mdata3\u001b[0m\": 100%|██████████| 3/3 [00:00<00:00, 133.88it/s]\n"
     ]
    },
    {
     "data": {
      "text/html": [
       "<div>\n",
       "<style scoped>\n",
       "    .dataframe tbody tr th:only-of-type {\n",
       "        vertical-align: middle;\n",
       "    }\n",
       "\n",
       "    .dataframe tbody tr th {\n",
       "        vertical-align: top;\n",
       "    }\n",
       "\n",
       "    .dataframe thead th {\n",
       "        text-align: right;\n",
       "    }\n",
       "</style>\n",
       "<table border=\"1\" class=\"dataframe\">\n",
       "  <thead>\n",
       "    <tr style=\"text-align: right;\">\n",
       "      <th></th>\n",
       "      <th>Comment</th>\n",
       "      <th>Signal Count</th>\n",
       "      <th>Signal Length</th>\n",
       "      <th>Signal Size</th>\n",
       "      <th>Memory Usage</th>\n",
       "      <th>Interface</th>\n",
       "      <th>File Type</th>\n",
       "      <th>File Size</th>\n",
       "      <th>File Date</th>\n",
       "      <th>File Path</th>\n",
       "    </tr>\n",
       "  </thead>\n",
       "  <tbody>\n",
       "    <tr>\n",
       "      <th>data1</th>\n",
       "      <td>None</td>\n",
       "      <td>5</td>\n",
       "      <td>4</td>\n",
       "      <td>20</td>\n",
       "      <td>0.0003</td>\n",
       "      <td>PANDAS_OBJECT</td>\n",
       "      <td>.csv</td>\n",
       "      <td>0.0004</td>\n",
       "      <td>2024-04-13 00:01:11.681179</td>\n",
       "      <td>c:\\95_Programming\\10_Data_Related\\20_Projects\\...</td>\n",
       "    </tr>\n",
       "    <tr>\n",
       "      <th>data2</th>\n",
       "      <td>None</td>\n",
       "      <td>4</td>\n",
       "      <td>6</td>\n",
       "      <td>24</td>\n",
       "      <td>0.0003</td>\n",
       "      <td>PANDAS_OBJECT</td>\n",
       "      <td>.xlsx</td>\n",
       "      <td>0.0058</td>\n",
       "      <td>2024-04-13 00:01:11.765212</td>\n",
       "      <td>c:\\95_Programming\\10_Data_Related\\20_Projects\\...</td>\n",
       "    </tr>\n",
       "    <tr>\n",
       "      <th>data3</th>\n",
       "      <td>None</td>\n",
       "      <td>5</td>\n",
       "      <td>3</td>\n",
       "      <td>15</td>\n",
       "      <td>0.0003</td>\n",
       "      <td>JSON_OBJECT</td>\n",
       "      <td>.json</td>\n",
       "      <td>0.0006</td>\n",
       "      <td>2024-04-13 00:01:11.773171</td>\n",
       "      <td>c:\\95_Programming\\10_Data_Related\\20_Projects\\...</td>\n",
       "    </tr>\n",
       "  </tbody>\n",
       "</table>\n",
       "</div>"
      ],
      "text/plain": [
       "      Comment  Signal Count  Signal Length  Signal Size  Memory Usage  \\\n",
       "data1    None             5              4           20        0.0003   \n",
       "data2    None             4              6           24        0.0003   \n",
       "data3    None             5              3           15        0.0003   \n",
       "\n",
       "           Interface File Type  File Size                  File Date  \\\n",
       "data1  PANDAS_OBJECT      .csv     0.0004 2024-04-13 00:01:11.681179   \n",
       "data2  PANDAS_OBJECT     .xlsx     0.0058 2024-04-13 00:01:11.765212   \n",
       "data3    JSON_OBJECT     .json     0.0006 2024-04-13 00:01:11.773171   \n",
       "\n",
       "                                               File Path  \n",
       "data1  c:\\95_Programming\\10_Data_Related\\20_Projects\\...  \n",
       "data2  c:\\95_Programming\\10_Data_Related\\20_Projects\\...  \n",
       "data3  c:\\95_Programming\\10_Data_Related\\20_Projects\\...  "
      ]
     },
     "execution_count": 59,
     "metadata": {},
     "output_type": "execute_result"
    }
   ],
   "source": [
    "import datasurfer as ds\n",
    "\n",
    "# Create a DataSurfer object by giving the path of the data files\n",
    "dp = ds.Data_Pool(\"demo_data\")\n",
    "\n",
    "# display all information of the data pool \n",
    "dp.describe(verbose=True)"
   ]
  },
  {
   "cell_type": "markdown",
   "metadata": {},
   "source": [
    "### List Signal Names in the Pool\n",
    "The data pool description provides details on the three files we've created, including signals, file types, sizes, and more. Using the following command, you can view all the signal names stored in the data pool:"
   ]
  },
  {
   "cell_type": "code",
   "execution_count": 60,
   "metadata": {},
   "outputs": [
    {
     "data": {
      "text/plain": [
       "['a', 'b', 'c', 'd', 'e', 'f', 'g']"
      ]
     },
     "execution_count": 60,
     "metadata": {},
     "output_type": "execute_result"
    }
   ],
   "source": [
    "# list all pool signals\n",
    "\n",
    "dp.list_signals()"
   ]
  },
  {
   "cell_type": "markdown",
   "metadata": {},
   "source": [
    "### Retrieve Single Signal from Pool\n",
    "\n",
    "The Pool returns values from files within the pool, presenting them as a pandas DataFrame. To achieve data length alignment, empty spaces will be filled with 'NaN'."
   ]
  },
  {
   "cell_type": "code",
   "execution_count": 61,
   "metadata": {},
   "outputs": [
    {
     "data": {
      "text/html": [
       "<div>\n",
       "<style scoped>\n",
       "    .dataframe tbody tr th:only-of-type {\n",
       "        vertical-align: middle;\n",
       "    }\n",
       "\n",
       "    .dataframe tbody tr th {\n",
       "        vertical-align: top;\n",
       "    }\n",
       "\n",
       "    .dataframe thead th {\n",
       "        text-align: right;\n",
       "    }\n",
       "</style>\n",
       "<table border=\"1\" class=\"dataframe\">\n",
       "  <thead>\n",
       "    <tr style=\"text-align: right;\">\n",
       "      <th></th>\n",
       "      <th>data1</th>\n",
       "      <th>data2</th>\n",
       "      <th>data3</th>\n",
       "    </tr>\n",
       "  </thead>\n",
       "  <tbody>\n",
       "    <tr>\n",
       "      <th>0</th>\n",
       "      <td>0.503206</td>\n",
       "      <td>0.717697</td>\n",
       "      <td>0.996721</td>\n",
       "    </tr>\n",
       "    <tr>\n",
       "      <th>1</th>\n",
       "      <td>0.689968</td>\n",
       "      <td>0.128347</td>\n",
       "      <td>0.576359</td>\n",
       "    </tr>\n",
       "    <tr>\n",
       "      <th>2</th>\n",
       "      <td>0.675610</td>\n",
       "      <td>0.494052</td>\n",
       "      <td>0.853079</td>\n",
       "    </tr>\n",
       "    <tr>\n",
       "      <th>3</th>\n",
       "      <td>0.403762</td>\n",
       "      <td>0.186185</td>\n",
       "      <td>NaN</td>\n",
       "    </tr>\n",
       "    <tr>\n",
       "      <th>4</th>\n",
       "      <td>NaN</td>\n",
       "      <td>0.412788</td>\n",
       "      <td>NaN</td>\n",
       "    </tr>\n",
       "    <tr>\n",
       "      <th>5</th>\n",
       "      <td>NaN</td>\n",
       "      <td>0.276691</td>\n",
       "      <td>NaN</td>\n",
       "    </tr>\n",
       "  </tbody>\n",
       "</table>\n",
       "</div>"
      ],
      "text/plain": [
       "      data1     data2     data3\n",
       "0  0.503206  0.717697  0.996721\n",
       "1  0.689968  0.128347  0.576359\n",
       "2  0.675610  0.494052  0.853079\n",
       "3  0.403762  0.186185       NaN\n",
       "4       NaN  0.412788       NaN\n",
       "5       NaN  0.276691       NaN"
      ]
     },
     "execution_count": 61,
     "metadata": {},
     "output_type": "execute_result"
    }
   ],
   "source": [
    "# Obtain signal \"c\" from pool files\n",
    "df = dp['c']\n",
    "\n",
    "df"
   ]
  },
  {
   "cell_type": "markdown",
   "metadata": {},
   "source": [
    "### Retrieve multiple signals from Pool\n",
    "\n",
    "The Pool can also return multiple signals at once. The signals can be specified by a list of signal names:\n"
   ]
  },
  {
   "cell_type": "code",
   "execution_count": 62,
   "metadata": {},
   "outputs": [
    {
     "data": {
      "text/html": [
       "<div>\n",
       "<style scoped>\n",
       "    .dataframe tbody tr th:only-of-type {\n",
       "        vertical-align: middle;\n",
       "    }\n",
       "\n",
       "    .dataframe tbody tr th {\n",
       "        vertical-align: top;\n",
       "    }\n",
       "\n",
       "    .dataframe thead th {\n",
       "        text-align: right;\n",
       "    }\n",
       "</style>\n",
       "<table border=\"1\" class=\"dataframe\">\n",
       "  <thead>\n",
       "    <tr style=\"text-align: right;\">\n",
       "      <th></th>\n",
       "      <th>b</th>\n",
       "      <th>c</th>\n",
       "    </tr>\n",
       "  </thead>\n",
       "  <tbody>\n",
       "    <tr>\n",
       "      <th>0</th>\n",
       "      <td>0.567580</td>\n",
       "      <td>0.503206</td>\n",
       "    </tr>\n",
       "    <tr>\n",
       "      <th>1</th>\n",
       "      <td>0.117408</td>\n",
       "      <td>0.689968</td>\n",
       "    </tr>\n",
       "    <tr>\n",
       "      <th>2</th>\n",
       "      <td>0.547368</td>\n",
       "      <td>0.675610</td>\n",
       "    </tr>\n",
       "    <tr>\n",
       "      <th>3</th>\n",
       "      <td>0.776428</td>\n",
       "      <td>0.403762</td>\n",
       "    </tr>\n",
       "    <tr>\n",
       "      <th>4</th>\n",
       "      <td>0.607161</td>\n",
       "      <td>0.717697</td>\n",
       "    </tr>\n",
       "    <tr>\n",
       "      <th>5</th>\n",
       "      <td>0.075717</td>\n",
       "      <td>0.128347</td>\n",
       "    </tr>\n",
       "    <tr>\n",
       "      <th>6</th>\n",
       "      <td>0.128989</td>\n",
       "      <td>0.494052</td>\n",
       "    </tr>\n",
       "    <tr>\n",
       "      <th>7</th>\n",
       "      <td>0.812623</td>\n",
       "      <td>0.186185</td>\n",
       "    </tr>\n",
       "    <tr>\n",
       "      <th>8</th>\n",
       "      <td>0.735211</td>\n",
       "      <td>0.412788</td>\n",
       "    </tr>\n",
       "    <tr>\n",
       "      <th>9</th>\n",
       "      <td>0.288942</td>\n",
       "      <td>0.276691</td>\n",
       "    </tr>\n",
       "    <tr>\n",
       "      <th>10</th>\n",
       "      <td>NaN</td>\n",
       "      <td>0.996721</td>\n",
       "    </tr>\n",
       "    <tr>\n",
       "      <th>11</th>\n",
       "      <td>NaN</td>\n",
       "      <td>0.576359</td>\n",
       "    </tr>\n",
       "    <tr>\n",
       "      <th>12</th>\n",
       "      <td>NaN</td>\n",
       "      <td>0.853079</td>\n",
       "    </tr>\n",
       "  </tbody>\n",
       "</table>\n",
       "</div>"
      ],
      "text/plain": [
       "           b         c\n",
       "0   0.567580  0.503206\n",
       "1   0.117408  0.689968\n",
       "2   0.547368  0.675610\n",
       "3   0.776428  0.403762\n",
       "4   0.607161  0.717697\n",
       "5   0.075717  0.128347\n",
       "6   0.128989  0.494052\n",
       "7   0.812623  0.186185\n",
       "8   0.735211  0.412788\n",
       "9   0.288942  0.276691\n",
       "10       NaN  0.996721\n",
       "11       NaN  0.576359\n",
       "12       NaN  0.853079"
      ]
     },
     "execution_count": 62,
     "metadata": {},
     "output_type": "execute_result"
    }
   ],
   "source": [
    "# Depresse warning messages\n",
    "import warnings\n",
    "warnings.filterwarnings(\"ignore\")\n",
    "\n",
    "# Return a DataFrame containing signals 'b' and 'c'; non-existent values will be filled with NaN.\n",
    "df = dp[['b', 'c']]\n",
    "df"
   ]
  },
  {
   "cell_type": "markdown",
   "metadata": {},
   "source": [
    "### Visualize data in the pool\n",
    "\n",
    "You can also plot the data in the pool directly. The following code will satter pool signals:"
   ]
  },
  {
   "cell_type": "code",
   "execution_count": 63,
   "metadata": {},
   "outputs": [
    {
     "data": {
      "image/png": "[encoded data removed]",
      "text/plain": [
       "<Figure size 400x300 with 1 Axes>"
      ]
     },
     "metadata": {},
     "output_type": "display_data"
    }
   ],
   "source": [
    "# Set figure size\n",
    "dp.plot.set_figparam(figsize=(4, 3))\n",
    "\n",
    "# Scatter signal \"c\" and \"d\"\n",
    "dp.plot.scatter('c', 'd');"
   ]
  },
  {
   "cell_type": "code",
   "execution_count": null,
   "metadata": {},
   "outputs": [],
   "source": []
  }
 ],
 "metadata": {
  "kernelspec": {
   "display_name": "my_data",
   "language": "python",
   "name": "python3"
  },
  "language_info": {
   "codemirror_mode": {
    "name": "ipython",
    "version": 3
   },
   "file_extension": ".py",
   "mimetype": "text/x-python",
   "name": "python",
   "nbconvert_exporter": "python",
   "pygments_lexer": "ipython3",
   "version": "3.8.17"
  }
 },
 "nbformat": 4,
 "nbformat_minor": 2
}
