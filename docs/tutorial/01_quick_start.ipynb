{
 "cells": [
  {
   "cell_type": "markdown",
   "metadata": {},
   "source": [
    "# Welcome to the Datasurfer Tutorial\n",
    "\n",
    "In this tutorial, you'll gain a rapid insight of Datasurfer, covering installation, building your initial data pool, searching for certain data, and visualizing it."
   ]
  },
  {
   "cell_type": "markdown",
   "metadata": {},
   "source": [
    "## Install Datasurfer\n",
    "\n",
    "To initiate the installation of Datasurfer, execute the following command:"
   ]
  },
  {
   "cell_type": "markdown",
   "metadata": {},
   "source": [
    "> pip install datasurfer"
   ]
  },
  {
   "cell_type": "markdown",
   "metadata": {},
   "source": [
    "\n",
    "## Create Data Files\n",
    "Before diving into data harnessing with Datasurfer, let's first create some dummy data files in various formats."
   ]
  },
  {
   "cell_type": "code",
   "execution_count": 39,
   "metadata": {},
   "outputs": [],
   "source": [
    "import numpy as np\n",
    "import pandas as pd\n",
    "import json\n",
    "from pathlib import Path\n",
    "\n",
    "# Create a directory to store the data.\n",
    "dir_data = Path('demo_data')\n",
    "dir_data.mkdir(exist_ok=True)\n",
    "\n",
    "# Create a csv file.\n",
    "data1 = pd.DataFrame(np.random.rand(4, 5), columns=list('abcde'))\n",
    "data1.to_csv(dir_data / 'data1.csv', index=False)\n",
    "\n",
    "# Create an excel file\n",
    "data2 = pd.DataFrame(np.random.rand(6, 4), columns=list('bcde'))\n",
    "data2.to_excel(dir_data / 'data2.xlsx', index=False)\n",
    "\n",
    "# Create a json file\n",
    "data3 = pd.DataFrame(np.random.rand(5, 3), index=list('cdefg'))\n",
    "json.dump(data3.to_dict(), open(dir_data / 'data3.json', 'w'),  indent=4)\n"
   ]
  },
  {
   "cell_type": "markdown",
   "metadata": {},
   "source": [
    "## Data Pool\n",
    "\n",
    "### Create a Data Pool Object\n",
    "We've now generated three files within the \"demo_data\" directory, each has different file types, varying data sizes, and unequal column names.\n",
    "\n",
    "In the next step, We will create a data pool object to organize and contain these files."
   ]
  },
  {
   "cell_type": "code",
   "execution_count": 40,
   "metadata": {},
   "outputs": [
    {
     "name": "stderr",
     "output_type": "stream",
     "text": [
      "Processing \"\u001b[92mdemo_data\u001b[0m/\u001b[94mdata3\u001b[0m\": 100%|██████████| 3/3 [00:00<00:00, 126.42it/s]\n"
     ]
    },
    {
     "data": {
      "text/html": [
       "<div>\n",
       "<style scoped>\n",
       "    .dataframe tbody tr th:only-of-type {\n",
       "        vertical-align: middle;\n",
       "    }\n",
       "\n",
       "    .dataframe tbody tr th {\n",
       "        vertical-align: top;\n",
       "    }\n",
       "\n",
       "    .dataframe thead th {\n",
       "        text-align: right;\n",
       "    }\n",
       "</style>\n",
       "<table border=\"1\" class=\"dataframe\">\n",
       "  <thead>\n",
       "    <tr style=\"text-align: right;\">\n",
       "      <th></th>\n",
       "      <th>Comment</th>\n",
       "      <th>Signal Count</th>\n",
       "      <th>Signal Length</th>\n",
       "      <th>Signal Size</th>\n",
       "      <th>Memory Usage</th>\n",
       "      <th>Interface</th>\n",
       "      <th>File Type</th>\n",
       "      <th>File Size</th>\n",
       "      <th>File Date</th>\n",
       "      <th>File Path</th>\n",
       "    </tr>\n",
       "  </thead>\n",
       "  <tbody>\n",
       "    <tr>\n",
       "      <th>data1</th>\n",
       "      <td>None</td>\n",
       "      <td>5</td>\n",
       "      <td>4</td>\n",
       "      <td>20</td>\n",
       "      <td>0.0003</td>\n",
       "      <td>PANDAS_OBJECT</td>\n",
       "      <td>.csv</td>\n",
       "      <td>0.0004</td>\n",
       "      <td>2024-04-12 23:36:48.066740</td>\n",
       "      <td>c:\\95_Programming\\10_Data_Related\\20_Projects\\...</td>\n",
       "    </tr>\n",
       "    <tr>\n",
       "      <th>data2</th>\n",
       "      <td>None</td>\n",
       "      <td>4</td>\n",
       "      <td>6</td>\n",
       "      <td>24</td>\n",
       "      <td>0.0003</td>\n",
       "      <td>PANDAS_OBJECT</td>\n",
       "      <td>.xlsx</td>\n",
       "      <td>0.0058</td>\n",
       "      <td>2024-04-12 23:36:48.147264</td>\n",
       "      <td>c:\\95_Programming\\10_Data_Related\\20_Projects\\...</td>\n",
       "    </tr>\n",
       "    <tr>\n",
       "      <th>data3</th>\n",
       "      <td>None</td>\n",
       "      <td>5</td>\n",
       "      <td>3</td>\n",
       "      <td>15</td>\n",
       "      <td>0.0003</td>\n",
       "      <td>JSON_OBJECT</td>\n",
       "      <td>.json</td>\n",
       "      <td>0.0006</td>\n",
       "      <td>2024-04-12 23:36:48.167137</td>\n",
       "      <td>c:\\95_Programming\\10_Data_Related\\20_Projects\\...</td>\n",
       "    </tr>\n",
       "  </tbody>\n",
       "</table>\n",
       "</div>"
      ],
      "text/plain": [
       "      Comment  Signal Count  Signal Length  Signal Size  Memory Usage  \\\n",
       "data1    None             5              4           20        0.0003   \n",
       "data2    None             4              6           24        0.0003   \n",
       "data3    None             5              3           15        0.0003   \n",
       "\n",
       "           Interface File Type  File Size                  File Date  \\\n",
       "data1  PANDAS_OBJECT      .csv     0.0004 2024-04-12 23:36:48.066740   \n",
       "data2  PANDAS_OBJECT     .xlsx     0.0058 2024-04-12 23:36:48.147264   \n",
       "data3    JSON_OBJECT     .json     0.0006 2024-04-12 23:36:48.167137   \n",
       "\n",
       "                                               File Path  \n",
       "data1  c:\\95_Programming\\10_Data_Related\\20_Projects\\...  \n",
       "data2  c:\\95_Programming\\10_Data_Related\\20_Projects\\...  \n",
       "data3  c:\\95_Programming\\10_Data_Related\\20_Projects\\...  "
      ]
     },
     "execution_count": 40,
     "metadata": {},
     "output_type": "execute_result"
    }
   ],
   "source": [
    "import datasurfer as ds\n",
    "\n",
    "# Create a DataSurfer object by giving the path of the data files\n",
    "dp = ds.Data_Pool(\"demo_data\")\n",
    "\n",
    "# display all information of the data pool \n",
    "dp.describe(verbose=True)"
   ]
  },
  {
   "cell_type": "markdown",
   "metadata": {},
   "source": [
    "### List Signal Names in the Pool\n",
    "The data pool description provides details on the three files we've created, including signals, file types, sizes, and more. Using the following command, you can view all the signal names stored in the data pool:"
   ]
  },
  {
   "cell_type": "code",
   "execution_count": 41,
   "metadata": {},
   "outputs": [
    {
     "data": {
      "text/plain": [
       "['a', 'b', 'c', 'd', 'e', 'f', 'g']"
      ]
     },
     "execution_count": 41,
     "metadata": {},
     "output_type": "execute_result"
    }
   ],
   "source": [
    "# list all pool signals\n",
    "\n",
    "dp.list_signals()"
   ]
  },
  {
   "cell_type": "markdown",
   "metadata": {},
   "source": [
    "### Obtain Single Signal from Pool\n",
    "\n",
    "The Pool returns values from files within the pool, presenting them as a pandas DataFrame. To achieve data length alignment, empty spaces will be filled with 'NaN'."
   ]
  },
  {
   "cell_type": "code",
   "execution_count": 42,
   "metadata": {},
   "outputs": [
    {
     "data": {
      "text/html": [
       "<div>\n",
       "<style scoped>\n",
       "    .dataframe tbody tr th:only-of-type {\n",
       "        vertical-align: middle;\n",
       "    }\n",
       "\n",
       "    .dataframe tbody tr th {\n",
       "        vertical-align: top;\n",
       "    }\n",
       "\n",
       "    .dataframe thead th {\n",
       "        text-align: right;\n",
       "    }\n",
       "</style>\n",
       "<table border=\"1\" class=\"dataframe\">\n",
       "  <thead>\n",
       "    <tr style=\"text-align: right;\">\n",
       "      <th></th>\n",
       "      <th>data1</th>\n",
       "      <th>data2</th>\n",
       "      <th>data3</th>\n",
       "    </tr>\n",
       "  </thead>\n",
       "  <tbody>\n",
       "    <tr>\n",
       "      <th>0</th>\n",
       "      <td>0.096317</td>\n",
       "      <td>0.047774</td>\n",
       "      <td>0.322151</td>\n",
       "    </tr>\n",
       "    <tr>\n",
       "      <th>1</th>\n",
       "      <td>0.519415</td>\n",
       "      <td>0.862198</td>\n",
       "      <td>0.402787</td>\n",
       "    </tr>\n",
       "    <tr>\n",
       "      <th>2</th>\n",
       "      <td>0.791313</td>\n",
       "      <td>0.943141</td>\n",
       "      <td>0.772013</td>\n",
       "    </tr>\n",
       "    <tr>\n",
       "      <th>3</th>\n",
       "      <td>0.928654</td>\n",
       "      <td>0.791107</td>\n",
       "      <td>NaN</td>\n",
       "    </tr>\n",
       "    <tr>\n",
       "      <th>4</th>\n",
       "      <td>NaN</td>\n",
       "      <td>0.475045</td>\n",
       "      <td>NaN</td>\n",
       "    </tr>\n",
       "    <tr>\n",
       "      <th>5</th>\n",
       "      <td>NaN</td>\n",
       "      <td>0.943275</td>\n",
       "      <td>NaN</td>\n",
       "    </tr>\n",
       "  </tbody>\n",
       "</table>\n",
       "</div>"
      ],
      "text/plain": [
       "      data1     data2     data3\n",
       "0  0.096317  0.047774  0.322151\n",
       "1  0.519415  0.862198  0.402787\n",
       "2  0.791313  0.943141  0.772013\n",
       "3  0.928654  0.791107       NaN\n",
       "4       NaN  0.475045       NaN\n",
       "5       NaN  0.943275       NaN"
      ]
     },
     "execution_count": 42,
     "metadata": {},
     "output_type": "execute_result"
    }
   ],
   "source": [
    "# Obtain signal \"c\" from pool files\n",
    "df = dp['c']\n",
    "\n",
    "df"
   ]
  },
  {
   "cell_type": "markdown",
   "metadata": {},
   "source": [
    "# Obtain multiple signals from Pool\n",
    "\n",
    "The Pool can also return multiple signals at once. The signals can be specified by a list of signal names:\n"
   ]
  },
  {
   "cell_type": "code",
   "execution_count": 47,
   "metadata": {},
   "outputs": [
    {
     "data": {
      "text/html": [
       "<div>\n",
       "<style scoped>\n",
       "    .dataframe tbody tr th:only-of-type {\n",
       "        vertical-align: middle;\n",
       "    }\n",
       "\n",
       "    .dataframe tbody tr th {\n",
       "        vertical-align: top;\n",
       "    }\n",
       "\n",
       "    .dataframe thead th {\n",
       "        text-align: right;\n",
       "    }\n",
       "</style>\n",
       "<table border=\"1\" class=\"dataframe\">\n",
       "  <thead>\n",
       "    <tr style=\"text-align: right;\">\n",
       "      <th></th>\n",
       "      <th>b</th>\n",
       "      <th>c</th>\n",
       "    </tr>\n",
       "  </thead>\n",
       "  <tbody>\n",
       "    <tr>\n",
       "      <th>0</th>\n",
       "      <td>0.344473</td>\n",
       "      <td>0.096317</td>\n",
       "    </tr>\n",
       "    <tr>\n",
       "      <th>1</th>\n",
       "      <td>0.539755</td>\n",
       "      <td>0.519415</td>\n",
       "    </tr>\n",
       "    <tr>\n",
       "      <th>2</th>\n",
       "      <td>0.145672</td>\n",
       "      <td>0.791313</td>\n",
       "    </tr>\n",
       "    <tr>\n",
       "      <th>3</th>\n",
       "      <td>0.783115</td>\n",
       "      <td>0.928654</td>\n",
       "    </tr>\n",
       "    <tr>\n",
       "      <th>4</th>\n",
       "      <td>0.289679</td>\n",
       "      <td>0.047774</td>\n",
       "    </tr>\n",
       "    <tr>\n",
       "      <th>5</th>\n",
       "      <td>0.727152</td>\n",
       "      <td>0.862198</td>\n",
       "    </tr>\n",
       "    <tr>\n",
       "      <th>6</th>\n",
       "      <td>0.801876</td>\n",
       "      <td>0.943141</td>\n",
       "    </tr>\n",
       "    <tr>\n",
       "      <th>7</th>\n",
       "      <td>0.400355</td>\n",
       "      <td>0.791107</td>\n",
       "    </tr>\n",
       "    <tr>\n",
       "      <th>8</th>\n",
       "      <td>0.836810</td>\n",
       "      <td>0.475045</td>\n",
       "    </tr>\n",
       "    <tr>\n",
       "      <th>9</th>\n",
       "      <td>0.204659</td>\n",
       "      <td>0.943275</td>\n",
       "    </tr>\n",
       "    <tr>\n",
       "      <th>10</th>\n",
       "      <td>NaN</td>\n",
       "      <td>0.322151</td>\n",
       "    </tr>\n",
       "    <tr>\n",
       "      <th>11</th>\n",
       "      <td>NaN</td>\n",
       "      <td>0.402787</td>\n",
       "    </tr>\n",
       "    <tr>\n",
       "      <th>12</th>\n",
       "      <td>NaN</td>\n",
       "      <td>0.772013</td>\n",
       "    </tr>\n",
       "  </tbody>\n",
       "</table>\n",
       "</div>"
      ],
      "text/plain": [
       "           b         c\n",
       "0   0.344473  0.096317\n",
       "1   0.539755  0.519415\n",
       "2   0.145672  0.791313\n",
       "3   0.783115  0.928654\n",
       "4   0.289679  0.047774\n",
       "5   0.727152  0.862198\n",
       "6   0.801876  0.943141\n",
       "7   0.400355  0.791107\n",
       "8   0.836810  0.475045\n",
       "9   0.204659  0.943275\n",
       "10       NaN  0.322151\n",
       "11       NaN  0.402787\n",
       "12       NaN  0.772013"
      ]
     },
     "execution_count": 47,
     "metadata": {},
     "output_type": "execute_result"
    }
   ],
   "source": [
    "import warnings\n",
    "warnings.filterwarnings(\"ignore\")\n",
    "\n",
    "\n",
    "df = dp[['b', 'c']]\n",
    "df"
   ]
  },
  {
   "cell_type": "code",
   "execution_count": null,
   "metadata": {},
   "outputs": [],
   "source": []
  }
 ],
 "metadata": {
  "kernelspec": {
   "display_name": "my_data",
   "language": "python",
   "name": "python3"
  },
  "language_info": {
   "codemirror_mode": {
    "name": "ipython",
    "version": 3
   },
   "file_extension": ".py",
   "mimetype": "text/x-python",
   "name": "python",
   "nbconvert_exporter": "python",
   "pygments_lexer": "ipython3",
   "version": "3.8.17"
  }
 },
 "nbformat": 4,
 "nbformat_minor": 2
}
