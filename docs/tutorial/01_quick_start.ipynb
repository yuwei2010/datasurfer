{
 "cells": [
  {
   "cell_type": "markdown",
   "metadata": {},
   "source": [
    "# Welcome to the Datasurfer Tutorial\n",
    "\n",
    "In this tutorial, you'll gain a rapid insight of Datasurfer, covering installation, building your initial data pool, searching for certain data, and visualizing it."
   ]
  },
  {
   "cell_type": "markdown",
   "metadata": {},
   "source": [
    "## Install Datasurfer\n",
    "\n",
    "To initiate the installation of Datasurfer, execute the following command:"
   ]
  },
  {
   "cell_type": "markdown",
   "metadata": {},
   "source": [
    "> pip install datasurfer"
   ]
  },
  {
   "cell_type": "markdown",
   "metadata": {},
   "source": [
    "\n",
    "## Create Data Files\n",
    "Before diving into data harnessing with Datasurfer, let's first create some data files in various formats."
   ]
  },
  {
   "cell_type": "code",
   "execution_count": 1,
   "metadata": {},
   "outputs": [],
   "source": [
    "import numpy as np\n",
    "import pandas as pd\n",
    "import json\n",
    "from pathlib import Path\n",
    "\n",
    "np.random.seed()\n",
    "\n",
    "# Create a directory to store the data.\n",
    "dir_data = Path('demo_data')\n",
    "dir_data.mkdir(exist_ok=True)\n",
    "\n",
    "# Create a csv file.\n",
    "data1 = pd.DataFrame(np.random.rand(4, 5), columns=list('abcde'))\n",
    "data1.to_csv(dir_data / 'data1.csv', index=False)\n",
    "\n",
    "# Create an excel file\n",
    "data2 = pd.DataFrame(np.random.rand(6, 4), columns=list('bcde'))\n",
    "data2.to_excel(dir_data / 'data2.xlsx', index=False)\n",
    "\n",
    "# Create a json file\n",
    "data3 = pd.DataFrame(np.random.rand(5, 3), index=list('cdefg'))\n",
    "json.dump(data3.to_dict(), open(dir_data / 'data3.json', 'w'),  indent=4)\n"
   ]
  },
  {
   "cell_type": "markdown",
   "metadata": {},
   "source": [
    "## Data Pool\n",
    "\n",
    "### Create a Data Pool Object by Path\n",
    "We've now generated three files within the \"demo_data\" directory, each has different file types, varying data sizes, and unequal column names.\n",
    "\n",
    "In the next step, We will create a data pool object to organize and contain these files."
   ]
  },
  {
   "cell_type": "code",
   "execution_count": 2,
   "metadata": {},
   "outputs": [
    {
     "name": "stderr",
     "output_type": "stream",
     "text": [
      "Processing \"\u001b[92mdemo_data\u001b[0m/\u001b[94mdata4\u001b[0m\": 100%|██████████| 4/4 [00:00<00:00, 153.83it/s]\n"
     ]
    },
    {
     "data": {
      "text/html": [
       "<div>\n",
       "<style scoped>\n",
       "    .dataframe tbody tr th:only-of-type {\n",
       "        vertical-align: middle;\n",
       "    }\n",
       "\n",
       "    .dataframe tbody tr th {\n",
       "        vertical-align: top;\n",
       "    }\n",
       "\n",
       "    .dataframe thead th {\n",
       "        text-align: right;\n",
       "    }\n",
       "</style>\n",
       "<table border=\"1\" class=\"dataframe\">\n",
       "  <thead>\n",
       "    <tr style=\"text-align: right;\">\n",
       "      <th></th>\n",
       "      <th>Comment</th>\n",
       "      <th>Signal Count</th>\n",
       "      <th>Signal Length</th>\n",
       "      <th>Signal Size</th>\n",
       "      <th>Memory Usage</th>\n",
       "      <th>Interface</th>\n",
       "      <th>File Type</th>\n",
       "      <th>File Size</th>\n",
       "      <th>File Date</th>\n",
       "      <th>File Path</th>\n",
       "    </tr>\n",
       "  </thead>\n",
       "  <tbody>\n",
       "    <tr>\n",
       "      <th>data1</th>\n",
       "      <td>None</td>\n",
       "      <td>5</td>\n",
       "      <td>4</td>\n",
       "      <td>20</td>\n",
       "      <td>0.0003</td>\n",
       "      <td>PANDAS_OBJECT</td>\n",
       "      <td>.csv</td>\n",
       "      <td>0.0004</td>\n",
       "      <td>2024-04-18 22:21:12.094121</td>\n",
       "      <td>c:\\95_Programming\\10_Data_Related\\20_Projects\\...</td>\n",
       "    </tr>\n",
       "    <tr>\n",
       "      <th>data2</th>\n",
       "      <td>None</td>\n",
       "      <td>4</td>\n",
       "      <td>6</td>\n",
       "      <td>24</td>\n",
       "      <td>0.0003</td>\n",
       "      <td>PANDAS_OBJECT</td>\n",
       "      <td>.xlsx</td>\n",
       "      <td>0.0058</td>\n",
       "      <td>2024-04-18 22:21:12.308239</td>\n",
       "      <td>c:\\95_Programming\\10_Data_Related\\20_Projects\\...</td>\n",
       "    </tr>\n",
       "    <tr>\n",
       "      <th>data3</th>\n",
       "      <td>None</td>\n",
       "      <td>5</td>\n",
       "      <td>3</td>\n",
       "      <td>15</td>\n",
       "      <td>0.0003</td>\n",
       "      <td>JSON_OBJECT</td>\n",
       "      <td>.json</td>\n",
       "      <td>0.0006</td>\n",
       "      <td>2024-04-18 22:21:12.319681</td>\n",
       "      <td>c:\\95_Programming\\10_Data_Related\\20_Projects\\...</td>\n",
       "    </tr>\n",
       "    <tr>\n",
       "      <th>data4</th>\n",
       "      <td>None</td>\n",
       "      <td>8</td>\n",
       "      <td>3</td>\n",
       "      <td>24</td>\n",
       "      <td>0.0003</td>\n",
       "      <td>PANDAS_OBJECT</td>\n",
       "      <td>.csv</td>\n",
       "      <td>0.0004</td>\n",
       "      <td>2024-04-15 21:58:04.522392</td>\n",
       "      <td>c:\\95_Programming\\10_Data_Related\\20_Projects\\...</td>\n",
       "    </tr>\n",
       "  </tbody>\n",
       "</table>\n",
       "</div>"
      ],
      "text/plain": [
       "      Comment  Signal Count  Signal Length  Signal Size  Memory Usage  \\\n",
       "data1    None             5              4           20        0.0003   \n",
       "data2    None             4              6           24        0.0003   \n",
       "data3    None             5              3           15        0.0003   \n",
       "data4    None             8              3           24        0.0003   \n",
       "\n",
       "           Interface File Type  File Size                  File Date  \\\n",
       "data1  PANDAS_OBJECT      .csv     0.0004 2024-04-18 22:21:12.094121   \n",
       "data2  PANDAS_OBJECT     .xlsx     0.0058 2024-04-18 22:21:12.308239   \n",
       "data3    JSON_OBJECT     .json     0.0006 2024-04-18 22:21:12.319681   \n",
       "data4  PANDAS_OBJECT      .csv     0.0004 2024-04-15 21:58:04.522392   \n",
       "\n",
       "                                               File Path  \n",
       "data1  c:\\95_Programming\\10_Data_Related\\20_Projects\\...  \n",
       "data2  c:\\95_Programming\\10_Data_Related\\20_Projects\\...  \n",
       "data3  c:\\95_Programming\\10_Data_Related\\20_Projects\\...  \n",
       "data4  c:\\95_Programming\\10_Data_Related\\20_Projects\\...  "
      ]
     },
     "execution_count": 2,
     "metadata": {},
     "output_type": "execute_result"
    }
   ],
   "source": [
    "import datasurfer as ds\n",
    "\n",
    "# Create a DataSurfer object by giving the path of the data files\n",
    "dp = ds.Data_Pool(\"demo_data\")\n",
    "\n",
    "# display all information of the data pool \n",
    "dp.describe(verbose=True)"
   ]
  },
  {
   "cell_type": "markdown",
   "metadata": {},
   "source": [
    "### List Signal Names in the Pool\n",
    "The data pool description provides details on the three files we've created, including signals, file types, sizes, and more. Using the following command, you can view all the signal names stored in the data pool:"
   ]
  },
  {
   "cell_type": "code",
   "execution_count": 3,
   "metadata": {},
   "outputs": [
    {
     "data": {
      "text/plain": [
       "['Unnamed: 0', 'a', 'b', 'c', 'd', 'e', 'f', 'g', 'h', 'i']"
      ]
     },
     "execution_count": 3,
     "metadata": {},
     "output_type": "execute_result"
    }
   ],
   "source": [
    "# list all pool signals\n",
    "\n",
    "dp.list_signals()"
   ]
  },
  {
   "cell_type": "markdown",
   "metadata": {},
   "source": [
    "### Retrieve Single Signal from Pool\n",
    "\n",
    "The Pool returns values from files within the pool, presenting them as a pandas DataFrame. To achieve data length alignment, empty spaces will be filled with 'NaN'."
   ]
  },
  {
   "cell_type": "code",
   "execution_count": 4,
   "metadata": {},
   "outputs": [
    {
     "data": {
      "text/html": [
       "<div>\n",
       "<style scoped>\n",
       "    .dataframe tbody tr th:only-of-type {\n",
       "        vertical-align: middle;\n",
       "    }\n",
       "\n",
       "    .dataframe tbody tr th {\n",
       "        vertical-align: top;\n",
       "    }\n",
       "\n",
       "    .dataframe thead th {\n",
       "        text-align: right;\n",
       "    }\n",
       "</style>\n",
       "<table border=\"1\" class=\"dataframe\">\n",
       "  <thead>\n",
       "    <tr style=\"text-align: right;\">\n",
       "      <th></th>\n",
       "      <th>data1</th>\n",
       "      <th>data2</th>\n",
       "      <th>data3</th>\n",
       "      <th>data4</th>\n",
       "    </tr>\n",
       "  </thead>\n",
       "  <tbody>\n",
       "    <tr>\n",
       "      <th>0</th>\n",
       "      <td>0.184880</td>\n",
       "      <td>0.792278</td>\n",
       "      <td>0.968942</td>\n",
       "      <td>0.996721</td>\n",
       "    </tr>\n",
       "    <tr>\n",
       "      <th>1</th>\n",
       "      <td>0.683669</td>\n",
       "      <td>0.415172</td>\n",
       "      <td>0.939490</td>\n",
       "      <td>0.576359</td>\n",
       "    </tr>\n",
       "    <tr>\n",
       "      <th>2</th>\n",
       "      <td>0.193809</td>\n",
       "      <td>0.988417</td>\n",
       "      <td>0.483236</td>\n",
       "      <td>0.853079</td>\n",
       "    </tr>\n",
       "    <tr>\n",
       "      <th>3</th>\n",
       "      <td>0.470615</td>\n",
       "      <td>0.303216</td>\n",
       "      <td>NaN</td>\n",
       "      <td>NaN</td>\n",
       "    </tr>\n",
       "    <tr>\n",
       "      <th>4</th>\n",
       "      <td>NaN</td>\n",
       "      <td>0.278814</td>\n",
       "      <td>NaN</td>\n",
       "      <td>NaN</td>\n",
       "    </tr>\n",
       "    <tr>\n",
       "      <th>5</th>\n",
       "      <td>NaN</td>\n",
       "      <td>0.033725</td>\n",
       "      <td>NaN</td>\n",
       "      <td>NaN</td>\n",
       "    </tr>\n",
       "  </tbody>\n",
       "</table>\n",
       "</div>"
      ],
      "text/plain": [
       "      data1     data2     data3     data4\n",
       "0  0.184880  0.792278  0.968942  0.996721\n",
       "1  0.683669  0.415172  0.939490  0.576359\n",
       "2  0.193809  0.988417  0.483236  0.853079\n",
       "3  0.470615  0.303216       NaN       NaN\n",
       "4       NaN  0.278814       NaN       NaN\n",
       "5       NaN  0.033725       NaN       NaN"
      ]
     },
     "execution_count": 4,
     "metadata": {},
     "output_type": "execute_result"
    }
   ],
   "source": [
    "# Obtain signal \"c\" from pool files\n",
    "df = dp['c']\n",
    "\n",
    "df"
   ]
  },
  {
   "cell_type": "markdown",
   "metadata": {},
   "source": [
    "### Retrieve multiple signals from Pool\n",
    "\n",
    "The Pool can also return multiple signals at once. The signals can be specified by a list of signal names:\n"
   ]
  },
  {
   "cell_type": "code",
   "execution_count": 5,
   "metadata": {},
   "outputs": [
    {
     "data": {
      "text/html": [
       "<div>\n",
       "<style scoped>\n",
       "    .dataframe tbody tr th:only-of-type {\n",
       "        vertical-align: middle;\n",
       "    }\n",
       "\n",
       "    .dataframe tbody tr th {\n",
       "        vertical-align: top;\n",
       "    }\n",
       "\n",
       "    .dataframe thead th {\n",
       "        text-align: right;\n",
       "    }\n",
       "</style>\n",
       "<table border=\"1\" class=\"dataframe\">\n",
       "  <thead>\n",
       "    <tr style=\"text-align: right;\">\n",
       "      <th></th>\n",
       "      <th>b</th>\n",
       "      <th>c</th>\n",
       "    </tr>\n",
       "  </thead>\n",
       "  <tbody>\n",
       "    <tr>\n",
       "      <th>0</th>\n",
       "      <td>0.302863</td>\n",
       "      <td>0.184880</td>\n",
       "    </tr>\n",
       "    <tr>\n",
       "      <th>1</th>\n",
       "      <td>0.901391</td>\n",
       "      <td>0.683669</td>\n",
       "    </tr>\n",
       "    <tr>\n",
       "      <th>2</th>\n",
       "      <td>0.556435</td>\n",
       "      <td>0.193809</td>\n",
       "    </tr>\n",
       "    <tr>\n",
       "      <th>3</th>\n",
       "      <td>0.490187</td>\n",
       "      <td>0.470615</td>\n",
       "    </tr>\n",
       "    <tr>\n",
       "      <th>4</th>\n",
       "      <td>0.334605</td>\n",
       "      <td>0.792278</td>\n",
       "    </tr>\n",
       "    <tr>\n",
       "      <th>5</th>\n",
       "      <td>0.288508</td>\n",
       "      <td>0.415172</td>\n",
       "    </tr>\n",
       "    <tr>\n",
       "      <th>6</th>\n",
       "      <td>0.009023</td>\n",
       "      <td>0.988417</td>\n",
       "    </tr>\n",
       "    <tr>\n",
       "      <th>7</th>\n",
       "      <td>0.278961</td>\n",
       "      <td>0.303216</td>\n",
       "    </tr>\n",
       "    <tr>\n",
       "      <th>8</th>\n",
       "      <td>0.127840</td>\n",
       "      <td>0.278814</td>\n",
       "    </tr>\n",
       "    <tr>\n",
       "      <th>9</th>\n",
       "      <td>0.751997</td>\n",
       "      <td>0.033725</td>\n",
       "    </tr>\n",
       "    <tr>\n",
       "      <th>10</th>\n",
       "      <td>NaN</td>\n",
       "      <td>0.968942</td>\n",
       "    </tr>\n",
       "    <tr>\n",
       "      <th>11</th>\n",
       "      <td>NaN</td>\n",
       "      <td>0.939490</td>\n",
       "    </tr>\n",
       "    <tr>\n",
       "      <th>12</th>\n",
       "      <td>NaN</td>\n",
       "      <td>0.483236</td>\n",
       "    </tr>\n",
       "    <tr>\n",
       "      <th>13</th>\n",
       "      <td>NaN</td>\n",
       "      <td>0.996721</td>\n",
       "    </tr>\n",
       "    <tr>\n",
       "      <th>14</th>\n",
       "      <td>NaN</td>\n",
       "      <td>0.576359</td>\n",
       "    </tr>\n",
       "    <tr>\n",
       "      <th>15</th>\n",
       "      <td>NaN</td>\n",
       "      <td>0.853079</td>\n",
       "    </tr>\n",
       "  </tbody>\n",
       "</table>\n",
       "</div>"
      ],
      "text/plain": [
       "           b         c\n",
       "0   0.302863  0.184880\n",
       "1   0.901391  0.683669\n",
       "2   0.556435  0.193809\n",
       "3   0.490187  0.470615\n",
       "4   0.334605  0.792278\n",
       "5   0.288508  0.415172\n",
       "6   0.009023  0.988417\n",
       "7   0.278961  0.303216\n",
       "8   0.127840  0.278814\n",
       "9   0.751997  0.033725\n",
       "10       NaN  0.968942\n",
       "11       NaN  0.939490\n",
       "12       NaN  0.483236\n",
       "13       NaN  0.996721\n",
       "14       NaN  0.576359\n",
       "15       NaN  0.853079"
      ]
     },
     "execution_count": 5,
     "metadata": {},
     "output_type": "execute_result"
    }
   ],
   "source": [
    "# Depresse warning messages\n",
    "import warnings\n",
    "warnings.filterwarnings(\"ignore\")\n",
    "\n",
    "# Return a DataFrame containing signals 'b' and 'c'; non-existent values will be filled with NaN.\n",
    "df = dp[['b', 'c']]\n",
    "df"
   ]
  },
  {
   "cell_type": "markdown",
   "metadata": {},
   "source": [
    "### Visualize data in the pool\n",
    "\n",
    "You can also plot the data in the pool directly. The following code will satter pool signals:"
   ]
  },
  {
   "cell_type": "code",
   "execution_count": 6,
   "metadata": {},
   "outputs": [
    {
     "data": {
      "image/png": "[encoded data removed]",
      "text/plain": [
       "<Figure size 840x630 with 1 Axes>"
      ]
     },
     "metadata": {},
     "output_type": "display_data"
    },
    {
     "ename": "",
     "evalue": "",
     "output_type": "error",
     "traceback": [
      "\u001b[1;31mThe Kernel crashed while executing code in the current cell or a previous cell. \n",
      "\u001b[1;31mPlease review the code in the cell(s) to identify a possible cause of the failure. \n",
      "\u001b[1;31mClick <a href='https://aka.ms/vscodeJupyterKernelCrash'>here</a> for more info. \n",
      "\u001b[1;31mView Jupyter <a href='command:jupyter.viewOutput'>log</a> for further details."
     ]
    }
   ],
   "source": [
    "# Scatter signal \"c\" and \"d\" and set the axis labels\n",
    "dp.plot.scatter('c', 'd', setax=True);"
   ]
  },
  {
   "cell_type": "markdown",
   "metadata": {},
   "source": [
    "Now that you've learned how to create a data pool and access its contents, in the next tutorial, you'll explore creating data objects for various data formats."
   ]
  }
 ],
 "metadata": {
  "kernelspec": {
   "display_name": "my_data",
   "language": "python",
   "name": "python3"
  },
  "language_info": {
   "codemirror_mode": {
    "name": "ipython",
    "version": 3
   },
   "file_extension": ".py",
   "mimetype": "text/x-python",
   "name": "python",
   "nbconvert_exporter": "python",
   "pygments_lexer": "ipython3",
   "version": "3.8.17"
  }
 },
 "nbformat": 4,
 "nbformat_minor": 2
}
