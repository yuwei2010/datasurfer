{
 "cells": [
  {
   "cell_type": "code",
   "execution_count": 20,
   "metadata": {},
   "outputs": [
    {
     "name": "stdout",
     "output_type": "stream",
     "text": [
      "The autoreload extension is already loaded. To reload it, use:\n",
      "  %reload_ext autoreload\n"
     ]
    }
   ],
   "source": [
    "%load_ext autoreload\n",
    "%autoreload 2"
   ]
  },
  {
   "cell_type": "code",
   "execution_count": 21,
   "metadata": {},
   "outputs": [],
   "source": [
    "import datasurfer as ds\n",
    "from datasurfer.lib_objects.multisheet_object import ExcelDataPool\n",
    "from pathlib import Path"
   ]
  },
  {
   "cell_type": "code",
   "execution_count": 64,
   "metadata": {},
   "outputs": [],
   "source": [
    "path = Path(r'C:\\30_eATS1p6\\80_Lifetime\\30_HeatDump\\40_Export_Histograms\\10_eATS1p6_V2C\\last_Temp')\n",
    "\n",
    "\n",
    "dlk = ds.DataLake([ExcelDataPool(p, header=0, skiprows=[1, 2], index_col=0) for p in ds.DataPool(path).paths()])"
   ]
  },
  {
   "cell_type": "code",
   "execution_count": 65,
   "metadata": {},
   "outputs": [
    {
     "data": {
      "text/plain": [
       "['Histogram_tACScrewU_V2C',\n",
       " 'Histogram_tACScrewV_V2C',\n",
       " 'Histogram_tACScrewW_V2C',\n",
       " 'Histogram_tACSealingU_V2C',\n",
       " 'Histogram_tACSealingV_V2C',\n",
       " 'Histogram_tACSealingW_V2C',\n",
       " 'Histogram_tBBrg_V2C',\n",
       " 'Histogram_tOil_V2C',\n",
       " 'Histogram_tRotor_V2C',\n",
       " 'Histogram_tStator_V2C']"
      ]
     },
     "execution_count": 65,
     "metadata": {},
     "output_type": "execute_result"
    }
   ],
   "source": [
    "dlk.keys()"
   ]
  },
  {
   "cell_type": "code",
   "execution_count": 67,
   "metadata": {},
   "outputs": [],
   "source": [
    "dp = dlk.get_object('Heatdump')\n",
    "\n"
   ]
  },
  {
   "cell_type": "code",
   "execution_count": 51,
   "metadata": {},
   "outputs": [
    {
     "name": "stderr",
     "output_type": "stream",
     "text": [
      "Processing \"\u001b[94mHistogram_tStator_V2C\u001b[0m\": 100%|██████████| 10/10 [00:00<00:00, 872.70it/s]\n"
     ]
    },
    {
     "data": {
      "text/plain": [
       "['Bins', 'Time_hour', 'Time_minute', 'Unnamed: 0']"
      ]
     },
     "execution_count": 51,
     "metadata": {},
     "output_type": "execute_result"
    }
   ],
   "source": [
    "dp.list_signals()"
   ]
  },
  {
   "cell_type": "code",
   "execution_count": 53,
   "metadata": {},
   "outputs": [
    {
     "data": {
      "text/plain": [
       "Histogram_tACScrewU_V2C      2161.288703\n",
       "Histogram_tACScrewV_V2C      2120.204177\n",
       "Histogram_tACScrewW_V2C      2140.531048\n",
       "Histogram_tACSealingU_V2C    2239.202808\n",
       "Histogram_tACSealingV_V2C    2190.142075\n",
       "Histogram_tACSealingW_V2C    2206.228691\n",
       "Histogram_tBBrg_V2C          2441.883776\n",
       "Histogram_tOil_V2C           2190.149706\n",
       "Histogram_tRotor_V2C         4726.918142\n",
       "Histogram_tStator_V2C        4096.909681\n",
       "dtype: float64"
      ]
     },
     "execution_count": 53,
     "metadata": {},
     "output_type": "execute_result"
    }
   ],
   "source": [
    "dp['Time_hour'].sum()"
   ]
  },
  {
   "cell_type": "code",
   "execution_count": null,
   "metadata": {},
   "outputs": [],
   "source": []
  }
 ],
 "metadata": {
  "kernelspec": {
   "display_name": "my_data",
   "language": "python",
   "name": "python3"
  },
  "language_info": {
   "codemirror_mode": {
    "name": "ipython",
    "version": 3
   },
   "file_extension": ".py",
   "mimetype": "text/x-python",
   "name": "python",
   "nbconvert_exporter": "python",
   "pygments_lexer": "ipython3",
   "version": "3.8.17"
  }
 },
 "nbformat": 4,
 "nbformat_minor": 2
}
